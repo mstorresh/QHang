{
 "cells": [
  {
   "cell_type": "markdown",
   "metadata": {
    "id": "2mwNUjZEV5It"
   },
   "source": [
    "# Introduction for the problem\n",
    "\n",
    "The main components of the problem proposed by Strangeworks are to work on a Max cut problem, starting from a graphic representation (graphs) of the problem, this problem proposes to work mainly with 4 binary nodes. With this representation we start with the QAOA process to find the minimum energy of the Hamiltonian. With this in mind we are looking to know the costs of doing it by this method and to know if it is feasible compared to the classical method.\n",
    "\n",
    "The explanation of each step of the problem will be explained below and is heavily influenced by the strangeworks GitHub and qiskit."
   ]
  },
  {
   "cell_type": "markdown",
   "metadata": {
    "id": "vT0TpmlUdfaD"
   },
   "source": [
    "## Max cut\n",
    "\n",
    "The Max-Cut problem consists of dividing the nodes of the graph into two sets in such a way that the number of edges between the sets is maximized.\n",
    "\n",
    "For this case a 4-node problem is going to be used, each node can be assigned with a value that could be either \"0\" or \"1\" (binary value). This means that you can have 16 possible placements or solutions, we can express that number by the following equation $2^N$, where N is the number of nodes. The equation indicates that the number of solutions grows exponentially depending on the nodes to be used.\n",
    "\n"
   ]
  },
  {
   "cell_type": "markdown",
   "metadata": {
    "id": "yvSAGpGXjjfC"
   },
   "source": [
    "## QAOA\n",
    "\n",
    "Quantum Approximate Optimization Algorithm is a quantum algorithm that attempts to solve such combinatorial problems.\n",
    "\n",
    "It is a variational algorithm that uses a unitary $U(\\boldsymbol{\\beta}, \\boldsymbol{\\gamma})$ characterized by the parameters \n",
    "$(\\boldsymbol{\\beta}, \\boldsymbol{\\gamma})$ to prepare a quantum state $\\lvert \\psi(\\boldsymbol{\\beta}, \\boldsymbol{\\gamma}) \\rangle$. \n",
    "The goal of the algorithm\n",
    "is to find optimal parameters $(\\boldsymbol{\\beta}_{opt}, \\boldsymbol{\\gamma}_{opt})$ such that the \n",
    "quantum state $\\lvert \\psi(\\boldsymbol{\\beta}_{opt}, \\boldsymbol{\\gamma}_{opt}) \\rangle$ encodes the solution to the problem. \n",
    "\n",
    "The unitary $U(\\boldsymbol{\\beta}, \\boldsymbol{\\gamma})$ has a specific form and is composed of two unitaries \n",
    "$U(\\boldsymbol{\\beta}) = e^{-i \\boldsymbol{\\beta} H_B}$ and $U(\\boldsymbol{\\gamma}) = e^{-i \\boldsymbol{\\gamma} H_P}$\n",
    "where $H_B$ is the mixing Hamiltonian and $H_P$ is the problem Hamiltonian (defined below). Such a choice of unitary drives its inspiration \n",
    "from a related scheme called quantum annealing.\n",
    "\n",
    "The state is prepared by applying these unitaries as alternating blocks of the two unitaries applied $p$ times such that \n",
    "\n",
    "$$\\lvert \\psi(\\boldsymbol{\\beta}, \\boldsymbol{\\gamma}) \\rangle = \\underbrace{U(\\boldsymbol{\\beta}) U(\\boldsymbol{\\gamma}) \n",
    "                                            \\cdots U(\\boldsymbol{\\beta}) U(\\boldsymbol{\\gamma})}_{p \\; \\text{times}} \n",
    "\\lvert \\psi_0 \\rangle$$\n",
    "\n",
    "where $\\lvert \\psi_0 \\rangle$ is a suitable initial state. \n",
    "\n",
    "We will demonstrate these steps using the Max-Cut problem discussed above. For that we would first define\n",
    "the underlying graph of the problem.\n",
    "\n",
    "Taken from qiskit: https://qiskit.org/textbook/ch-applications/qaoa.html \n"
   ]
  },
  {
   "cell_type": "markdown",
   "metadata": {
    "id": "rTt9jAJszm9J"
   },
   "source": [
    "## Libraries"
   ]
  },
  {
   "cell_type": "code",
   "execution_count": 1,
   "metadata": {
    "colab": {
     "base_uri": "https://localhost:8080/"
    },
    "id": "LGlLeMz_zLsc",
    "outputId": "c6d91952-0c44-4e61-bddd-4da717bba154"
   },
   "outputs": [
    {
     "name": "stdout",
     "output_type": "stream",
     "text": [
      "Requirement already satisfied: networkx in c:\\users\\crist\\anaconda3\\lib\\site-packages (2.6.3)\n",
      "\n",
      "[notice] A new release of pip available: 22.1.2 -> 22.2.2\n",
      "[notice] To update, run: python.exe -m pip install --upgrade pip\n",
      "Requirement already satisfied: matplotlib in c:\\users\\crist\\anaconda3\\lib\\site-packages (3.4.3)\n",
      "Requirement already satisfied: pillow>=6.2.0 in c:\\users\\crist\\anaconda3\\lib\\site-packages (from matplotlib) (8.4.0)\n",
      "Requirement already satisfied: pyparsing>=2.2.1 in c:\\users\\crist\\anaconda3\\lib\\site-packages (from matplotlib) (3.0.4)\n",
      "Requirement already satisfied: cycler>=0.10 in c:\\users\\crist\\anaconda3\\lib\\site-packages (from matplotlib) (0.10.0)\n",
      "Requirement already satisfied: kiwisolver>=1.0.1 in c:\\users\\crist\\anaconda3\\lib\\site-packages (from matplotlib) (1.3.1)\n",
      "Requirement already satisfied: numpy>=1.16 in c:\\users\\crist\\anaconda3\\lib\\site-packages (from matplotlib) (1.20.3)\n",
      "Requirement already satisfied: python-dateutil>=2.7 in c:\\users\\crist\\anaconda3\\lib\\site-packages (from matplotlib) (2.8.2)\n",
      "Requirement already satisfied: six in c:\\users\\crist\\anaconda3\\lib\\site-packages (from cycler>=0.10->matplotlib) (1.16.0)\n",
      "\n",
      "[notice] A new release of pip available: 22.1.2 -> 22.2.2\n",
      "[notice] To update, run: python.exe -m pip install --upgrade pip\n",
      "Requirement already satisfied: pylatexenc in c:\\users\\crist\\appdata\\roaming\\python\\python39\\site-packages (2.10)\n",
      "\n",
      "[notice] A new release of pip available: 22.1.2 -> 22.2.2\n",
      "[notice] To update, run: python.exe -m pip install --upgrade pip\n",
      "Requirement already satisfied: qiskit in c:\\users\\crist\\appdata\\roaming\\python\\python39\\site-packages (0.34.2)\n",
      "Requirement already satisfied: qiskit-terra==0.19.2 in c:\\users\\crist\\anaconda3\\lib\\site-packages (from qiskit) (0.19.2)\n",
      "Requirement already satisfied: qiskit-ibmq-provider==0.18.3 in c:\\users\\crist\\anaconda3\\lib\\site-packages (from qiskit) (0.18.3)\n",
      "Requirement already satisfied: qiskit-ignis==0.7.0 in c:\\users\\crist\\anaconda3\\lib\\site-packages (from qiskit) (0.7.0)\n",
      "Requirement already satisfied: qiskit-aer==0.10.3 in c:\\users\\crist\\anaconda3\\lib\\site-packages (from qiskit) (0.10.3)\n",
      "Requirement already satisfied: scipy>=1.0 in c:\\users\\crist\\anaconda3\\lib\\site-packages (from qiskit-aer==0.10.3->qiskit) (1.7.1)\n",
      "Requirement already satisfied: numpy>=1.16.3 in c:\\users\\crist\\anaconda3\\lib\\site-packages (from qiskit-aer==0.10.3->qiskit) (1.20.3)\n",
      "Requirement already satisfied: urllib3>=1.21.1 in c:\\users\\crist\\anaconda3\\lib\\site-packages (from qiskit-ibmq-provider==0.18.3->qiskit) (1.26.7)\n",
      "Requirement already satisfied: requests-ntlm>=1.1.0 in c:\\users\\crist\\anaconda3\\lib\\site-packages (from qiskit-ibmq-provider==0.18.3->qiskit) (1.1.0)\n",
      "Requirement already satisfied: python-dateutil>=2.8.0 in c:\\users\\crist\\anaconda3\\lib\\site-packages (from qiskit-ibmq-provider==0.18.3->qiskit) (2.8.2)\n",
      "Requirement already satisfied: websocket-client>=1.0.1 in c:\\users\\crist\\anaconda3\\lib\\site-packages (from qiskit-ibmq-provider==0.18.3->qiskit) (1.2.3)\n",
      "Requirement already satisfied: requests>=2.19 in c:\\users\\crist\\anaconda3\\lib\\site-packages (from qiskit-ibmq-provider==0.18.3->qiskit) (2.26.0)\n",
      "Requirement already satisfied: retworkx>=0.8.0 in c:\\users\\crist\\anaconda3\\lib\\site-packages (from qiskit-ignis==0.7.0->qiskit) (0.11.0)\n",
      "Requirement already satisfied: setuptools>=40.1.0 in c:\\users\\crist\\anaconda3\\lib\\site-packages (from qiskit-ignis==0.7.0->qiskit) (58.0.4)\n",
      "Requirement already satisfied: sympy>=1.3 in c:\\users\\crist\\anaconda3\\lib\\site-packages (from qiskit-terra==0.19.2->qiskit) (1.9)\n",
      "Requirement already satisfied: dill>=0.3 in c:\\users\\crist\\anaconda3\\lib\\site-packages (from qiskit-terra==0.19.2->qiskit) (0.3.4)\n",
      "Requirement already satisfied: stevedore>=3.0.0 in c:\\users\\crist\\anaconda3\\lib\\site-packages (from qiskit-terra==0.19.2->qiskit) (3.5.0)\n",
      "Requirement already satisfied: ply>=3.10 in c:\\users\\crist\\anaconda3\\lib\\site-packages (from qiskit-terra==0.19.2->qiskit) (3.11)\n",
      "Requirement already satisfied: psutil>=5 in c:\\users\\crist\\anaconda3\\lib\\site-packages (from qiskit-terra==0.19.2->qiskit) (5.8.0)\n",
      "Requirement already satisfied: tweedledum<2.0,>=1.1 in c:\\users\\crist\\anaconda3\\lib\\site-packages (from qiskit-terra==0.19.2->qiskit) (1.1.1)\n",
      "Requirement already satisfied: python-constraint>=1.4 in c:\\users\\crist\\anaconda3\\lib\\site-packages (from qiskit-terra==0.19.2->qiskit) (1.4.0)\n",
      "Requirement already satisfied: six>=1.5 in c:\\users\\crist\\anaconda3\\lib\\site-packages (from python-dateutil>=2.8.0->qiskit-ibmq-provider==0.18.3->qiskit) (1.16.0)\n",
      "Requirement already satisfied: idna<4,>=2.5 in c:\\users\\crist\\anaconda3\\lib\\site-packages (from requests>=2.19->qiskit-ibmq-provider==0.18.3->qiskit) (3.2)\n",
      "Requirement already satisfied: charset-normalizer~=2.0.0 in c:\\users\\crist\\anaconda3\\lib\\site-packages (from requests>=2.19->qiskit-ibmq-provider==0.18.3->qiskit) (2.0.4)\n",
      "Requirement already satisfied: certifi>=2017.4.17 in c:\\users\\crist\\anaconda3\\lib\\site-packages (from requests>=2.19->qiskit-ibmq-provider==0.18.3->qiskit) (2021.10.8)\n",
      "Requirement already satisfied: cryptography>=1.3 in c:\\users\\crist\\anaconda3\\lib\\site-packages (from requests-ntlm>=1.1.0->qiskit-ibmq-provider==0.18.3->qiskit) (3.4.8)\n",
      "Requirement already satisfied: ntlm-auth>=1.0.2 in c:\\users\\crist\\anaconda3\\lib\\site-packages (from requests-ntlm>=1.1.0->qiskit-ibmq-provider==0.18.3->qiskit) (1.5.0)\n",
      "Requirement already satisfied: pbr!=2.1.0,>=2.0.0 in c:\\users\\crist\\anaconda3\\lib\\site-packages (from stevedore>=3.0.0->qiskit-terra==0.19.2->qiskit) (5.8.1)\n",
      "Requirement already satisfied: mpmath>=0.19 in c:\\users\\crist\\anaconda3\\lib\\site-packages (from sympy>=1.3->qiskit-terra==0.19.2->qiskit) (1.2.1)\n",
      "Requirement already satisfied: cffi>=1.12 in c:\\users\\crist\\anaconda3\\lib\\site-packages (from cryptography>=1.3->requests-ntlm>=1.1.0->qiskit-ibmq-provider==0.18.3->qiskit) (1.14.6)\n",
      "Requirement already satisfied: pycparser in c:\\users\\crist\\anaconda3\\lib\\site-packages (from cffi>=1.12->cryptography>=1.3->requests-ntlm>=1.1.0->qiskit-ibmq-provider==0.18.3->qiskit) (2.20)\n",
      "\n",
      "[notice] A new release of pip available: 22.1.2 -> 22.2.2\n",
      "[notice] To update, run: python.exe -m pip install --upgrade pip\n",
      "Requirement already satisfied: qiskit[optimization] in c:\\users\\crist\\appdata\\roaming\\python\\python39\\site-packages (0.34.2)\n",
      "Requirement already satisfied: qiskit-ignis==0.7.0 in c:\\users\\crist\\anaconda3\\lib\\site-packages (from qiskit[optimization]) (0.7.0)\n",
      "Requirement already satisfied: qiskit-aer==0.10.3 in c:\\users\\crist\\anaconda3\\lib\\site-packages (from qiskit[optimization]) (0.10.3)\n",
      "Requirement already satisfied: qiskit-ibmq-provider==0.18.3 in c:\\users\\crist\\anaconda3\\lib\\site-packages (from qiskit[optimization]) (0.18.3)\n",
      "Requirement already satisfied: qiskit-terra==0.19.2 in c:\\users\\crist\\anaconda3\\lib\\site-packages (from qiskit[optimization]) (0.19.2)\n",
      "Requirement already satisfied: qiskit-optimization>=0.3.0 in c:\\users\\crist\\anaconda3\\lib\\site-packages (from qiskit[optimization]) (0.3.2)\n",
      "Requirement already satisfied: numpy>=1.16.3 in c:\\users\\crist\\anaconda3\\lib\\site-packages (from qiskit-aer==0.10.3->qiskit[optimization]) (1.20.3)\n",
      "Requirement already satisfied: scipy>=1.0 in c:\\users\\crist\\anaconda3\\lib\\site-packages (from qiskit-aer==0.10.3->qiskit[optimization]) (1.7.1)\n",
      "Requirement already satisfied: python-dateutil>=2.8.0 in c:\\users\\crist\\anaconda3\\lib\\site-packages (from qiskit-ibmq-provider==0.18.3->qiskit[optimization]) (2.8.2)\n",
      "Requirement already satisfied: websocket-client>=1.0.1 in c:\\users\\crist\\anaconda3\\lib\\site-packages (from qiskit-ibmq-provider==0.18.3->qiskit[optimization]) (1.2.3)\n",
      "Requirement already satisfied: urllib3>=1.21.1 in c:\\users\\crist\\anaconda3\\lib\\site-packages (from qiskit-ibmq-provider==0.18.3->qiskit[optimization]) (1.26.7)\n",
      "Requirement already satisfied: requests>=2.19 in c:\\users\\crist\\anaconda3\\lib\\site-packages (from qiskit-ibmq-provider==0.18.3->qiskit[optimization]) (2.26.0)\n",
      "Requirement already satisfied: requests-ntlm>=1.1.0 in c:\\users\\crist\\anaconda3\\lib\\site-packages (from qiskit-ibmq-provider==0.18.3->qiskit[optimization]) (1.1.0)\n",
      "Requirement already satisfied: setuptools>=40.1.0 in c:\\users\\crist\\anaconda3\\lib\\site-packages (from qiskit-ignis==0.7.0->qiskit[optimization]) (58.0.4)\n",
      "Requirement already satisfied: retworkx>=0.8.0 in c:\\users\\crist\\anaconda3\\lib\\site-packages (from qiskit-ignis==0.7.0->qiskit[optimization]) (0.11.0)\n",
      "Requirement already satisfied: ply>=3.10 in c:\\users\\crist\\anaconda3\\lib\\site-packages (from qiskit-terra==0.19.2->qiskit[optimization]) (3.11)\n",
      "Requirement already satisfied: python-constraint>=1.4 in c:\\users\\crist\\anaconda3\\lib\\site-packages (from qiskit-terra==0.19.2->qiskit[optimization]) (1.4.0)\n",
      "Requirement already satisfied: dill>=0.3 in c:\\users\\crist\\anaconda3\\lib\\site-packages (from qiskit-terra==0.19.2->qiskit[optimization]) (0.3.4)\n",
      "Requirement already satisfied: stevedore>=3.0.0 in c:\\users\\crist\\anaconda3\\lib\\site-packages (from qiskit-terra==0.19.2->qiskit[optimization]) (3.5.0)\n",
      "Requirement already satisfied: tweedledum<2.0,>=1.1 in c:\\users\\crist\\anaconda3\\lib\\site-packages (from qiskit-terra==0.19.2->qiskit[optimization]) (1.1.1)\n",
      "Requirement already satisfied: sympy>=1.3 in c:\\users\\crist\\anaconda3\\lib\\site-packages (from qiskit-terra==0.19.2->qiskit[optimization]) (1.9)\n",
      "Requirement already satisfied: psutil>=5 in c:\\users\\crist\\anaconda3\\lib\\site-packages (from qiskit-terra==0.19.2->qiskit[optimization]) (5.8.0)\n",
      "Requirement already satisfied: docplex>=2.21.207 in c:\\users\\crist\\anaconda3\\lib\\site-packages (from qiskit-optimization>=0.3.0->qiskit[optimization]) (2.23.222)\n",
      "Requirement already satisfied: networkx>=2.2 in c:\\users\\crist\\anaconda3\\lib\\site-packages (from qiskit-optimization>=0.3.0->qiskit[optimization]) (2.6.3)\n",
      "Requirement already satisfied: six in c:\\users\\crist\\anaconda3\\lib\\site-packages (from docplex>=2.21.207->qiskit-optimization>=0.3.0->qiskit[optimization]) (1.16.0)\n",
      "Requirement already satisfied: idna<4,>=2.5 in c:\\users\\crist\\anaconda3\\lib\\site-packages (from requests>=2.19->qiskit-ibmq-provider==0.18.3->qiskit[optimization]) (3.2)\n",
      "Requirement already satisfied: charset-normalizer~=2.0.0 in c:\\users\\crist\\anaconda3\\lib\\site-packages (from requests>=2.19->qiskit-ibmq-provider==0.18.3->qiskit[optimization]) (2.0.4)\n",
      "Requirement already satisfied: certifi>=2017.4.17 in c:\\users\\crist\\anaconda3\\lib\\site-packages (from requests>=2.19->qiskit-ibmq-provider==0.18.3->qiskit[optimization]) (2021.10.8)\n",
      "Requirement already satisfied: ntlm-auth>=1.0.2 in c:\\users\\crist\\anaconda3\\lib\\site-packages (from requests-ntlm>=1.1.0->qiskit-ibmq-provider==0.18.3->qiskit[optimization]) (1.5.0)\n",
      "Requirement already satisfied: cryptography>=1.3 in c:\\users\\crist\\anaconda3\\lib\\site-packages (from requests-ntlm>=1.1.0->qiskit-ibmq-provider==0.18.3->qiskit[optimization]) (3.4.8)\n",
      "Requirement already satisfied: pbr!=2.1.0,>=2.0.0 in c:\\users\\crist\\anaconda3\\lib\\site-packages (from stevedore>=3.0.0->qiskit-terra==0.19.2->qiskit[optimization]) (5.8.1)\n",
      "Requirement already satisfied: mpmath>=0.19 in c:\\users\\crist\\anaconda3\\lib\\site-packages (from sympy>=1.3->qiskit-terra==0.19.2->qiskit[optimization]) (1.2.1)\n",
      "Requirement already satisfied: cffi>=1.12 in c:\\users\\crist\\anaconda3\\lib\\site-packages (from cryptography>=1.3->requests-ntlm>=1.1.0->qiskit-ibmq-provider==0.18.3->qiskit[optimization]) (1.14.6)\n",
      "Requirement already satisfied: pycparser in c:\\users\\crist\\anaconda3\\lib\\site-packages (from cffi>=1.12->cryptography>=1.3->requests-ntlm>=1.1.0->qiskit-ibmq-provider==0.18.3->qiskit[optimization]) (2.20)\n",
      "\n",
      "[notice] A new release of pip available: 22.1.2 -> 22.2.2\n",
      "[notice] To update, run: python.exe -m pip install --upgrade pip\n"
     ]
    }
   ],
   "source": [
    "!pip install networkx\n",
    "!pip install matplotlib\n",
    "!pip install pylatexenc\n",
    "!pip install qiskit\n",
    "!pip install qiskit[optimization]"
   ]
  },
  {
   "cell_type": "markdown",
   "metadata": {
    "id": "UOeHF79JzrCE"
   },
   "source": [
    "# Graph"
   ]
  },
  {
   "cell_type": "markdown",
   "metadata": {
    "id": "7rETFhSnq983"
   },
   "source": [
    "Following what was mentioned at the beginning, the graph is created and the Hamiltonian of the problem is obtained."
   ]
  },
  {
   "cell_type": "code",
   "execution_count": 2,
   "metadata": {
    "colab": {
     "base_uri": "https://localhost:8080/",
     "height": 460
    },
    "id": "rWJIWK0JzR5V",
    "outputId": "03d8124b-0a3d-403a-9683-41a342f916ad"
   },
   "outputs": [
    {
     "data": {
      "text/plain": [
       "{(0, 1): Text(0.0, 1.0, '1'),\n",
       " (0, 3): Text(1.0, 0.0, '1'),\n",
       " (1, 2): Text(1.0, 2.0, '2'),\n",
       " (2, 3): Text(2.0, 1.0, '2')}"
      ]
     },
     "execution_count": 2,
     "metadata": {},
     "output_type": "execute_result"
    },
    {
     "data": {
      "image/png": "[encoded data removed]",
      "text/plain": [
       "<Figure size 576x360 with 1 Axes>"
      ]
     },
     "metadata": {},
     "output_type": "display_data"
    }
   ],
   "source": [
    "import networkx as nx\n",
    "import matplotlib.pyplot as plt\n",
    "import random\n",
    "from itertools import combinations, groupby\n",
    "from qiskit import QuantumCircuit\n",
    "from qiskit.tools.visualization import circuit_drawer\n",
    "from qiskit.circuit import Parameter\n",
    "# Number of nodes in the graph. Directly corresponds to the number of qubits\n",
    "# Be careful and don't make this number too big, your computer may crash. \n",
    "# The classical computational cost of simulating this (on classical hardware),\n",
    "# scales as 2^nodes. There is a reason that we need quantum computers!\n",
    "nodes = 4\n",
    "\n",
    "# Energy cost for having node occupied. It is negative so it is favourable for having this occupied.\n",
    "weights_nodes = [-2,-2,-2,-2,-2,-2]\n",
    "\n",
    "# Cost for having two connected nodes occupied. This may counteract the positive benefit (weights_nodes)\n",
    "# for having the nodes occupied, and leads to the complexity for the problem.\n",
    "weights_edges = [1,2,2,1]\n",
    "edges = [(0,1), (1,2), (2,3), (3,0)]\n",
    "pos = [(0,0),(0,2),(2,2),(2,0)]\n",
    "random.seed(1)\n",
    "\n",
    "G = nx.Graph()\n",
    "for nn in range(0,nodes):\n",
    "    G.add_nodes_from([(nn,{'weight': weights_nodes[nn]})])\n",
    "    \n",
    "iter = 0\n",
    "for e in edges:\n",
    "    G.add_edges_from([(e[0], e[1],{'weight': weights_edges[iter]})])\n",
    "    iter += 1\n",
    "labels = nx.get_edge_attributes(G,'weight')\n",
    "\n",
    "plt.figure(figsize=(8,5))\n",
    "nx.draw(G, node_color='lightblue', \n",
    "        with_labels=True, \n",
    "        node_size=500,pos = pos)\n",
    "\n",
    "nx.draw_networkx_edge_labels(G,pos,edge_labels=labels)"
   ]
  },
  {
   "cell_type": "markdown",
   "metadata": {
    "id": "Ljei8xp2q2wA"
   },
   "source": [
    "Following what was mentioned at the beginning, the graph is created and the Hamiltonian of the problem is obtained.\n",
    "\n"
   ]
  },
  {
   "cell_type": "markdown",
   "metadata": {
    "id": "a-BUBGCfoWun"
   },
   "source": [
    "# Exact Solution"
   ]
  },
  {
   "cell_type": "code",
   "execution_count": 9,
   "metadata": {
    "colab": {
     "base_uri": "https://localhost:8080/"
    },
    "id": "5-cJjs0nFrmc",
    "outputId": "143370c6-3c51-4850-cffa-c64563cf69c6"
   },
   "outputs": [
    {
     "name": "stdout",
     "output_type": "stream",
     "text": [
      "The cost of the optimal solution is -5.999999999999994\n",
      "eigenstate: \n",
      "state  0000 :  [-0.+0.j]\n",
      "state  0001 :  [0.+0.j]\n",
      "state  0010 :  [-0.+0.j]\n",
      "state  0011 :  [-0.+0.j]\n",
      "state  0100 :  [-0.+0.j]\n",
      "state  0101 :  [0.3269+0.j]\n",
      "state  0110 :  [0.+0.j]\n",
      "state  0111 :  [-0.+0.j]\n",
      "state  1000 :  [-0.+0.j]\n",
      "state  1001 :  [-0.+0.j]\n",
      "state  1010 :  [-0.9451+0.j]\n",
      "state  1011 :  [0.+0.j]\n",
      "state  1100 :  [0.+0.j]\n",
      "state  1101 :  [0.+0.j]\n",
      "state  1110 :  [-0.+0.j]\n",
      "state  1111 :  [0.+0.j]\n"
     ]
    }
   ],
   "source": [
    "import numpy as np\n",
    "import scipy.sparse.linalg as sla\n",
    "import copy\n",
    "\n",
    "edges = np.zeros((len(G.edges()),2),dtype=int)\n",
    "we = np.zeros(len(G.edges()),dtype=float)\n",
    "iter = 0\n",
    "for x in G.edges():\n",
    "    edges[iter,0] = x[0]\n",
    "    edges[iter,1] = x[1]\n",
    "    we[iter] = G.edges[x][\"weight\"]\n",
    "    iter = iter + 1\n",
    "\n",
    "wn = np.zeros(len(G.nodes()),dtype=float)\n",
    "iter = 0\n",
    "for i in G.nodes():\n",
    "    wn[iter] = G.nodes[i][\"weight\"]\n",
    "    iter = iter + 1\n",
    "\n",
    "def TensorProd(A):\n",
    "\n",
    "    out = np.kron(A[0],A[1])\n",
    "    for oo in range(2,len(A)):\n",
    "        out = np.kron(out,A[oo])\n",
    "\n",
    "    return out\n",
    "\n",
    "sz = [[1.0,0.0],[0.0,-1.0]]\n",
    "\n",
    "A0 = []\n",
    "for n in range(0,nodes):\n",
    "    A0.append(np.eye(2))\n",
    "\n",
    "out = TensorProd(A0)\n",
    "\n",
    "Ham = np.zeros((np.power(2,nodes),np.power(2,nodes)),dtype=float)\n",
    "\n",
    "for p in range(0,len(G.edges())):\n",
    "    A = copy.deepcopy(A0)\n",
    "    A[edges[p][0]] = sz\n",
    "    A[edges[p][1]] = sz\n",
    "    Ham += we[p] * TensorProd(A)\n",
    "\n",
    "Egs_exact, V = sla.eigs(Ham, 1, which='SR')\n",
    "\n",
    "lex = ['0000','0001','0010','0011','0100','0101','0110','0111','1000','1001','1010','1011','1100','1101','1110','1111']\n",
    "\n",
    "print(\"The cost of the optimal solution is \"+str(np.real(Egs_exact[0])))\n",
    "print(\"eigenstate: \")\n",
    "for i in range(len(lex)):\n",
    "      print('state ',lex[i],': ', np.round(V[i], decimals = 4))"
   ]
  },
  {
   "cell_type": "markdown",
   "metadata": {
    "id": "0fTjd4LhfKbu"
   },
   "source": [
    "The minimum value of energy is $E = -6;$ which is related to the cut result, six. On the other hande the eigenstate associated to the optimal solution has the form $|\\psi_{opt}\\rangle =\\left(a_0|0101\\rangle + a_1|1010\\rangle \\right);$ this because both $0101$ and $1010$ are states that minimize the Hamiltonian and then are solutions of the maxcut problem."
   ]
  },
  {
   "cell_type": "markdown",
   "metadata": {
    "id": "w1xez-1Nr0oj"
   },
   "source": [
    "## Quadratic Unconstrained Binary Optimization (QUBO)\n",
    "\n",
    "Combinatorial optimization problems concerns to a big field of optimization problems that can be found in industry. In 2014, Kochenberger, et. al. discovered the formulation of what is known as Quadratic Unconstrained Binary Optimization (QUBO) problems; which can be used to described different problems in different fields, such as the travel salesman problem, Max-cut problems and more.\n"
   ]
  },
  {
   "cell_type": "markdown",
   "metadata": {
    "id": "REFObUS0sCIq"
   },
   "source": [
    "The fundamental formulation of a QUBO problem is expressed as the optimization of the following cost function\n",
    "$$QUBO: Minimize/Maximize \\hspace{1em}f(x) = x^T Q x$$\n",
    "\n",
    "Here $x$ is a vector of binary variables and $Q$ is a square matrix of constants associated to the problem.\n",
    "\n",
    "$$x = \\begin{aligned}\\begin{pmatrix}\n",
    "x_0\\\\\n",
    "x_1\\\\\n",
    "\\vdots\\\\\n",
    "x_n\n",
    "\\end{pmatrix}\\end{aligned}\\hspace{1em}Q = \\begin{aligned}\\begin{pmatrix}\n",
    "q_{00}&q_{01}&\\dots&q_{0,n}\\\\\n",
    "q_{10}&q_{11}&\\dots&q_{1,n}\\\\\n",
    "\\vdots&\\vdots&\\ddots&\\vdots\\\\\n",
    "q_{n0}&q_{n1}&\\dots&q_{nn}\n",
    "\\end{pmatrix}\n",
    "\\end{aligned}$$\n",
    "\n",
    "The $Q$ matrix usually has a symetric or upper diagonal representation. Since $x_i^2 = x_i \\forall i;$ the diagonal also concern to the linear terms."
   ]
  },
  {
   "cell_type": "markdown",
   "metadata": {
    "id": "3RjRzkQosG0T"
   },
   "source": [
    "### Constraints\n",
    "Sometimes, binary problems have different constraints. In order to convert a binary problem to an unconstrained one (QUBO), we have the following table that covers some known penalties equivalent to a constraint in a binary problem.\n",
    "\n",
    "|Classical constraint   |Equivalent Penalty with parameter $P$|\n",
    "|:----------------------|:------------------------------------|\n",
    "|$x_1+x_2\\leq 1$        |$P(x_1x_2)$                          |\n",
    "|$x_1+x_2\\geq 1$        |$P(1 - x_1 - x_2 + x_1x_2)$          |\n",
    "|$x_2+x_2 = 1$          |$P(1-x_1-x_2+2x_1x_2)$               |\n",
    "|$x_1\\leq x_2$          |$P(x_1-x_1x_2)$                      |\n",
    "|$x_1 + x_2 + x_3\\leq 1$|$P(x_1x_2 + x_1x_3+x_2x_3)$          |\n",
    "|$x_1 =x_2 $            |$P(x_1 + x_2 - 2x_1x_2)$             |\n",
    "\n"
   ]
  },
  {
   "cell_type": "markdown",
   "metadata": {
    "id": "HT9mv4rws7g8"
   },
   "source": [
    "We can model a maxcut problem by introducing binary variables such that $ x_j= 1$ if the node $j$ is in one set and $ x_j= 0$ if it is in the other set.\n",
    "\n",
    "The problem of maximizing the number of edges in the cut can be formulated as\n",
    "\n",
    "$$\\text{Maximize}\\hspace{1em}\n",
    "f(x)=\\sum_{(i, j) \\in E} w_{ij}\\left(x_{i}+x_{j}-2 x_{i} x_{j}\\right).$$\n",
    "\n",
    "With $w_{ij}$ being the weight of the cut between the nodes $i$ and $j.$"
   ]
  },
  {
   "cell_type": "markdown",
   "metadata": {
    "id": "THYmZlXYuSNc"
   },
   "source": [
    "For the previous graph it is written as\n",
    "$$\\begin{aligned}\n",
    "\\text{Maximize} \\hspace{1em}f(x) =&1(x_0 + x_1 - 2 x_0x_1)+\\\\\n",
    "&2(x_1 + x_2 - 2 x_1x_2)+\\\\\n",
    "&2(x_2 + x_3 - 2 x_2x_3)+\\\\\n",
    "&1(x_0 + x_3 - 2 x_0x_3)\n",
    "\\end{aligned}$$"
   ]
  },
  {
   "cell_type": "markdown",
   "metadata": {
    "id": "fV-dAKZ_vlcD"
   },
   "source": [
    "Can be rewritten as\n",
    "$$\\begin{aligned}\n",
    "\\text{Maximize} \\hspace{1em}f(x) =&2x_0 + 3x_1 + 4x_2 + 3x_3 -\\\\\n",
    "&2(x_0x_1 + 2x_1x_2 + 2x_2x_3 + x_0x_3)\n",
    "\\end{aligned}$$\n",
    "\n",
    "The QUBO problem is then written as\n",
    "\n",
    "$$QUBO: \\text{Maximize} \\hspace{1em} x^TQx.$$"
   ]
  },
  {
   "cell_type": "markdown",
   "metadata": {
    "id": "x_c0MfmxwMDC"
   },
   "source": [
    "Where $x^T = (x_0,x_1,x_2,x_3)$ and\n",
    "\n",
    "$$Q = \\begin{aligned}\\begin{pmatrix}\n",
    "2&  -1& 0& -1\\\\\n",
    "-1& 3& -2&  0\\\\\n",
    "0 & -2& 4& -2\\\\\n",
    "-1& 0& -2& 3\\\\\n",
    "\\end{pmatrix}\n",
    "\\end{aligned}.$$\n",
    "\n",
    "Now we build up a quadratic program equivalent to the previous QUBO problem using qiskit."
   ]
  },
  {
   "cell_type": "code",
   "execution_count": 10,
   "metadata": {
    "colab": {
     "base_uri": "https://localhost:8080/"
    },
    "id": "ZF2QOuLZrpFh",
    "outputId": "7e0ca8d7-5a49-4859-a089-e210495fd8e5"
   },
   "outputs": [
    {
     "data": {
      "text/plain": [
       "<qiskit_optimization.problems.variable.Variable at 0x20b2492f6d0>"
      ]
     },
     "execution_count": 10,
     "metadata": {},
     "output_type": "execute_result"
    }
   ],
   "source": [
    "## Importing QuadraticProgram class\n",
    "from qiskit_optimization import QuadraticProgram\n",
    "\n",
    "## Define the QuadraticProgram\n",
    "qp_mc = QuadraticProgram()\n",
    "\n",
    "## Add variables\n",
    "qp_mc.binary_var('x_0')\n",
    "qp_mc.binary_var('x_1')\n",
    "qp_mc.binary_var('x_2')\n",
    "qp_mc.binary_var('x_3')"
   ]
  },
  {
   "cell_type": "code",
   "execution_count": 11,
   "metadata": {
    "colab": {
     "base_uri": "https://localhost:8080/"
    },
    "id": "0i6rOzH1xrIy",
    "outputId": "7fcd540b-add8-4f00-90b4-666cd8c413a3"
   },
   "outputs": [
    {
     "name": "stdout",
     "output_type": "stream",
     "text": [
      "\\ This file has been generated by DOcplex\n",
      "\\ ENCODING=ISO-8859-1\n",
      "\\Problem name: CPLEX\n",
      "\n",
      "Maximize\n",
      " obj: 2 x_0 + 3 x_1 + 4 x_2 + 3 x_3 + [ - 4 x_0*x_1 - 4 x_0*x_3 - 8 x_1*x_2\n",
      "      - 8 x_2*x_3 ]/2\n",
      "Subject To\n",
      "\n",
      "Bounds\n",
      " 0 <= x_0 <= 1\n",
      " 0 <= x_1 <= 1\n",
      " 0 <= x_2 <= 1\n",
      " 0 <= x_3 <= 1\n",
      "\n",
      "Binaries\n",
      " x_0 x_1 x_2 x_3\n",
      "End\n",
      "\n"
     ]
    }
   ],
   "source": [
    "## Add objective function\n",
    "qp_mc.maximize(linear={'x_0': 2, 'x_1': 3, 'x_2': 4,'x_3': 3},\n",
    "            quadratic=[[0,-1,0,-1],[-1,0,-2,0],[0,-2,0,-2],[-1,0,-2,0]])\n",
    "\n",
    "print(qp_mc.export_as_lp_string())"
   ]
  },
  {
   "cell_type": "markdown",
   "metadata": {
    "id": "a6fxOSKAzF1W"
   },
   "source": [
    "The solution of QUBO problems can be addressed using classical methods or quantum computing ones. In the case of qiskit we are using universal gate quantum computing, however, it can also be solved using quantum annealing methods. What you do in universal gate quantum computing is\n",
    "\n",
    "$$\n",
    "\\overset{\\mathrm{QUBO}}{x^TQx} \\rightarrow\\overset{\\text{Ising Hamiltonian}}{H = \\sum_i w_i Z_i + \\sum_{ij}w_{ij}Z_i Z_j} \\rightarrow \\overset{\\mathrm{Minimize}}{\\langle \\psi|H|\\psi\\rangle}_{\\theta}$$\n",
    "\n",
    "The ground state of the associated Ising Hamiltonian corresponds to the optimal solution of the problem. This ground state can be found by using quantum gate algorithms such as the Variational Quantum Eigensolver (VQE) or the Quantum Approximate Optimization Algorithm (QAOA). Here we are interested oin a QAOA algorithm."
   ]
  },
  {
   "cell_type": "markdown",
   "metadata": {
    "id": "jIgbCEQ0pW7x"
   },
   "source": [
    "# QAOA solution"
   ]
  },
  {
   "cell_type": "markdown",
   "metadata": {
    "id": "3Kv5GpPmze3g"
   },
   "source": [
    "To do this we first need to build up the Ising Hamiltonian equivalent to the problem. It is important to make use of a qiskit tool that will allow us to solve several problems. Once we have defined a QUBO problem we can find its Hamiltonian in the following way."
   ]
  },
  {
   "cell_type": "code",
   "execution_count": 12,
   "metadata": {
    "colab": {
     "base_uri": "https://localhost:8080/"
    },
    "id": "pM5uurJNz3yt",
    "outputId": "da224b86-1207-4be8-8ff0-7556e262f803"
   },
   "outputs": [
    {
     "name": "stdout",
     "output_type": "stream",
     "text": [
      "1.0 * ZZII\n",
      "+ 1.0 * IZZI\n",
      "+ 0.5 * ZIIZ\n",
      "+ 0.5 * IIZZ\n"
     ]
    }
   ],
   "source": [
    "print(qp_mc.to_ising()[0])"
   ]
  },
  {
   "cell_type": "markdown",
   "metadata": {
    "id": "TnH8AdCo0JJf"
   },
   "source": [
    "Here the operators in the right are Pauli operators with its coefficients in the right. It is important to take into account that the indices of the spins associated to the Ising model go from right to left. Then, the Ising Hamiltonian of the problem is\n",
    "$$\n",
    "H_P = \\frac{1}{2}\\big(Z_0 \\otimes Z_1 \\otimes I_2 \\otimes I_3\\big) + \n",
    "        \\frac{2}{2}\\big(I_0 \\otimes Z_1 \\otimes Z_2 \\otimes I_3\\big) +\n",
    "        \\frac{1}{2}\\big(Z_0 \\otimes I_1 \\otimes I_2 \\otimes Z_3\\big) +\n",
    "        \\frac{2}{2}\\big(I_0 \\otimes I_1 \\otimes Z_2 \\otimes Z_3\\big)\n",
    "$$"
   ]
  },
  {
   "cell_type": "markdown",
   "metadata": {
    "id": "WWws1_3M39xq"
   },
   "source": [
    "### Mixer Hamiltonian and Unitaries\n",
    "\n",
    "The mixer Hamiltonian $H_B$ is usually of the form:\n",
    "\n",
    "$$\n",
    "H_B = \\big(X_0 \\otimes I_1 \\otimes I_2 \\otimes I_3 \\big) + \n",
    "      \\big(I_0 \\otimes X_1 \\otimes I_2 \\otimes I_3 \\big) +\n",
    "      \\big(I_0 \\otimes I_1 \\otimes X_2 \\otimes I_3 \\big) +\n",
    "      \\big(I_0 \\otimes I_1 \\otimes I_2 \\otimes X_3 \\big)\n",
    "$$\n",
    "\n",
    "As individual terms in the summation of $H_P$ and $H_B$ both commute, we can write the unitaries as:\n",
    "\n",
    "$$ U(H_B) = e^{-i \\beta H_B} = e^{-i \\beta X_0}e^{-i \\beta X_1}e^{-i \\beta X_2}e^{-i \\beta X_3}.$$\n",
    "\n",
    "Notice that each term in the product above corresponds to an X-rotation on each qubit. And we can write $U(H_P)$ as:\n",
    "\n",
    "$$ U(H_P) = e^{-i \\gamma H_P} = e^{-i \\gamma Z_0 Z_1}e^{-i \\gamma Z_1 Z_2}e^{-i \\gamma Z_2 Z_3}e^{-i \\gamma Z_0 Z_3}$$\n",
    "\n",
    "Let's now examine what the circuits of the two unitaries look like. "
   ]
  },
  {
   "cell_type": "markdown",
   "id": "0450ec3c",
   "metadata": {},
   "source": [
    "### The Mixing Unitary"
   ]
  },
  {
   "cell_type": "code",
   "execution_count": 15,
   "id": "ab0ad136",
   "metadata": {
    "scrolled": true
   },
   "outputs": [
    {
     "data": {
      "image/png": "[encoded data removed]",
      "text/plain": [
       "<Figure size 146.797x264.88 with 1 Axes>"
      ]
     },
     "execution_count": 15,
     "metadata": {},
     "output_type": "execute_result"
    }
   ],
   "source": [
    "from qiskit import QuantumCircuit\n",
    "from qiskit.tools.visualization import circuit_drawer\n",
    "from qiskit.circuit import Parameter\n",
    "\n",
    "nqubits = 4\n",
    "\n",
    "beta = Parameter(\"$\\\\beta$\")\n",
    "qc_mix = QuantumCircuit(nqubits)\n",
    "for i in range(0, nqubits):\n",
    "    qc_mix.rx(2 * beta, i)\n",
    "    \n",
    "qc_mix.draw(\"mpl\")"
   ]
  },
  {
   "cell_type": "markdown",
   "id": "b507c2b9",
   "metadata": {},
   "source": [
    "### The Problem Unitary"
   ]
  },
  {
   "cell_type": "code",
   "execution_count": 19,
   "id": "523837f4",
   "metadata": {},
   "outputs": [
    {
     "data": {
      "image/png": "[encoded data removed]",
      "text/plain": [
       "<Figure size 1049.8x264.88 with 1 Axes>"
      ]
     },
     "execution_count": 19,
     "metadata": {},
     "output_type": "execute_result"
    }
   ],
   "source": [
    "gamma = Parameter(\"$\\\\gamma$\")\n",
    "qc_p = QuantumCircuit(nqubits)\n",
    "for pair in list(G.edges()):  # pairs of nodes\n",
    "    qc_p.rzz(2 * gamma*G.edges[pair][\"weight\"], pair[0], pair[1])\n",
    "    qc_p.barrier()\n",
    "    \n",
    "qc_p.decompose().draw(\"mpl\")"
   ]
  },
  {
   "cell_type": "markdown",
   "id": "0a3adb97",
   "metadata": {},
   "source": [
    "### The Initial State\n",
    "\n",
    "The initial state used during QAOA is usually an equal superposition of all the basis states i.e.\n",
    "\n",
    "$$\\lvert \\psi_0 \\rangle = \\bigg(\\frac{1}{\\sqrt{2}}\\big(\\lvert 0 \\rangle + \\lvert 1 \\rangle\\big)\\bigg)^{\\otimes n}$$\n",
    "\n",
    "Such a state, when number of qubits is 4 ($n=4$), can be prepared by applying Hadamard gates starting from an all zero state as shown in \n",
    "the circuit below. "
   ]
  },
  {
   "cell_type": "code",
   "execution_count": 20,
   "id": "523837f4",
   "metadata": {},
   "outputs": [
    {
     "data": {
      "image/png": "[encoded data removed]",
      "text/plain": [
       "<Figure size 146.797x264.88 with 1 Axes>"
      ]
     },
     "execution_count": 20,
     "metadata": {},
     "output_type": "execute_result"
    }
   ],
   "source": [
    "qc_0 = QuantumCircuit(nqubits)\n",
    "for i in range(0, nqubits):\n",
    "    qc_0.h(i)\n",
    "    \n",
    "qc_0.draw(\"mpl\")"
   ]
  },
  {
   "cell_type": "markdown",
   "id": "82d758ae",
   "metadata": {},
   "source": [
    "### The QAOA circuit\n",
    "\n",
    "So far we have seen that the preparation of a quantum state during QAOA is composed of three elements\n",
    "- Preparing an initial state\n",
    "- Applying the unitary $U(H_P) = e^{-i \\gamma H_P}$ corresponding to the problem Hamiltonian\n",
    "- Then, applying the mixing unitary $U(H_B) = e^{-i \\beta H_B}$\n",
    "\n",
    "Let's see what it looks like for the example problem:"
   ]
  },
  {
   "cell_type": "code",
   "execution_count": 21,
   "id": "2be4b11c",
   "metadata": {
    "scrolled": true
   },
   "outputs": [
    {
     "data": {
      "image/png": "[encoded data removed]",
      "text/plain": [
       "<Figure size 1170.2x264.88 with 1 Axes>"
      ]
     },
     "execution_count": 21,
     "metadata": {},
     "output_type": "execute_result"
    }
   ],
   "source": [
    "qc_qaoa = QuantumCircuit(nqubits)\n",
    "\n",
    "qc_qaoa.append(qc_0, [i for i in range(0, nqubits)])\n",
    "qc_qaoa.append(qc_p, [i for i in range(0, nqubits)])\n",
    "qc_qaoa.append(qc_mix, [i for i in range(0, nqubits)])\n",
    "\n",
    "qc_qaoa.decompose().decompose().draw(\"mpl\")"
   ]
  },
  {
   "cell_type": "markdown",
   "id": "314f75e0",
   "metadata": {},
   "source": [
    "The next step is to find the optimal parameters $(\\boldsymbol{\\beta_{opt}}, \\boldsymbol{\\gamma_{opt}})$ such that the expectation value\n",
    "\n",
    "$$ \\langle \\psi(\\boldsymbol{\\beta}_{opt}, \\boldsymbol{\\gamma}_{opt}) \\rvert H_P \\lvert \n",
    "\\psi(\\boldsymbol{\\beta}_{opt}, \\boldsymbol{\\gamma}_{opt}) \\rangle $$\n",
    "\n",
    "is minimized. Such an expectation can be obtained by doing measurement in the Z-basis. We use a classical optimization algorithm to find the optimal parameters. Following steps are involved as shown in the schematic \n",
    "\n",
    "<img src=\"QAOA_schematic.png\" width=\"600\" height=\"200\" class=\"center\">\n",
    "\n",
    "1. Initialize $\\boldsymbol{\\beta}$ and $\\boldsymbol{\\gamma}$ to suitable real values.\n",
    "2. Repeat until some suitable convergence criteria is met:\n",
    "    1. Prepare the state $\\lvert \\psi(\\boldsymbol{\\beta}, \\boldsymbol{\\gamma}) \\rangle$ using qaoa circuit\n",
    "    2. Measure the state in standard basis\n",
    "    3. Compute $ \\langle \\psi(\\boldsymbol{\\beta}, \\boldsymbol{\\gamma}) \\rvert H_P \\lvert \\psi(\\boldsymbol{\\beta}, \\boldsymbol{\\gamma}) \\rangle $ \n",
    "    4. Find new set of parameters $(\\boldsymbol{\\beta}_{new}, \\boldsymbol{\\gamma}_{new})$ using a classical optimization algorithm\n",
    "    5. Set current parameters $(\\boldsymbol{\\beta}, \\boldsymbol{\\gamma})$ equal to the new parameters \n",
    "      $(\\boldsymbol{\\beta}_{new}, \\boldsymbol{\\gamma}_{new})$\n",
    "\n",
    "The code below implements the steps mentioned above."
   ]
  },
  {
   "cell_type": "code",
   "execution_count": 22,
   "metadata": {
    "id": "D39_jsv5F_Gs"
   },
   "outputs": [],
   "source": [
    "def maxcut_obj(x, G):\n",
    "    \"\"\"\n",
    "    Given a bitstring as a solution, this function returns\n",
    "    the number of edges shared between the two partitions\n",
    "    of the graph.\n",
    "    \n",
    "    Args:\n",
    "        x: str\n",
    "           solution bitstring\n",
    "           \n",
    "        G: networkx graph\n",
    "        \n",
    "    Returns:\n",
    "        obj: float\n",
    "             Objective\n",
    "    \"\"\"\n",
    "    obj = 0\n",
    "    for i, j in G.edges():\n",
    "        if x[i] != x[j]:\n",
    "            obj -= G.edges[(i,j)][\"weight\"]\n",
    "            \n",
    "    #return obj\n",
    "    #for i, j in G.edges():\n",
    "    #    if x[i] == x[j] and x[i] == \"1\":\n",
    "    #        obj += G.edges[(i,j)][\"weight\"]\n",
    "\n",
    "    #for i in G.nodes():\n",
    "    #    if x[i] == \"1\":\n",
    "    #        obj += G.nodes[i][\"weight\"]\n",
    "            \n",
    "    return obj\n",
    "            \n",
    "\n",
    "def compute_expectation(counts, G):\n",
    "    \n",
    "    \"\"\"\n",
    "    Computes expectation value based on measurement results\n",
    "    \n",
    "    Args:\n",
    "        counts: dict\n",
    "                key as bitstring, val as count\n",
    "           \n",
    "        G: networkx graph\n",
    "        \n",
    "    Returns:\n",
    "        avg: float\n",
    "             expectation value\n",
    "    \"\"\"\n",
    "    \n",
    "    avg = 0\n",
    "    sum_count = 0\n",
    "    for bitstring, count in counts.items():\n",
    "        \n",
    "        obj = maxcut_obj(bitstring, G)\n",
    "        avg += obj * count\n",
    "        sum_count += count\n",
    "        \n",
    "    return avg/sum_count\n",
    "\n",
    "\n",
    "# We will also bring the different circuit components that\n",
    "# build the qaoa circuit under a single function\n",
    "def create_qaoa_circ(G, theta):\n",
    "    \n",
    "    \"\"\"\n",
    "    Creates a parametrized qaoa circuit\n",
    "    \n",
    "    Args:  \n",
    "        G: networkx graph\n",
    "        theta: list\n",
    "               unitary parameters\n",
    "                     \n",
    "    Returns:\n",
    "        qc: qiskit circuit\n",
    "    \"\"\"\n",
    "    \n",
    "    nqubits = len(G.nodes())\n",
    "    p = len(theta)//2  # number of alternating unitaries\n",
    "    qc = QuantumCircuit(nqubits)\n",
    "    \n",
    "    beta = theta[:p]\n",
    "    gamma = theta[p:]\n",
    "    \n",
    "    # initial_state\n",
    "    for i in range(0, nqubits):\n",
    "        qc.h(i)\n",
    "    \n",
    "    for irep in range(0, p):\n",
    "        \n",
    "        # problem unitary\n",
    "        #for nod in list(G.nodes()):\n",
    "        #    qc.rz(2 * gamma[irep]*G.nodes[nod][\"weight\"], nod)\n",
    "            \n",
    "            \n",
    "        for pair in list(G.edges()):\n",
    "            qc.rzz(2 * gamma[irep]*G.edges[pair][\"weight\"], pair[0], pair[1])\n",
    "\n",
    "        # mixer unitary\n",
    "        for i in range(0, nqubits):\n",
    "            qc.rx(2 * beta[irep], i)\n",
    "            \n",
    "    qc.measure_all()\n",
    "        \n",
    "    return qc\n",
    "\n",
    "# Finally we write a function that executes the circuit on the chosen backend\n",
    "def get_expectation(G, backend, shotsin,seed):\n",
    "    \n",
    "    \"\"\"\n",
    "    Runs parametrized circuit\n",
    "    \n",
    "    Args:\n",
    "        G: networkx graph\n",
    "        p: int,\n",
    "           Number of repetitions of unitaries\n",
    "    \"\"\"\n",
    "    \n",
    "    def execute_circ(theta):\n",
    "        \n",
    "        qc = create_qaoa_circ(G, theta)\n",
    "\n",
    "        # We need this step if we want to run on hardware. \n",
    "        # tqc = qiskit.compiler.transpile(qc,backend)\n",
    "        tqc = qc\n",
    "\n",
    "        counts = backend.run(tqc, seed_simulator=seed,shots = shotsin).result().get_counts()\n",
    "        \n",
    "        return compute_expectation(counts, G)\n",
    "    \n",
    "    return execute_circ"
   ]
  },
  {
   "cell_type": "code",
   "execution_count": 23,
   "metadata": {
    "colab": {
     "base_uri": "https://localhost:8080/"
    },
    "id": "24qSYq-HLuW1",
    "outputId": "6f4684d5-f68d-4899-d92e-93e23d25b03f"
   },
   "outputs": [
    {
     "data": {
      "text/plain": [
       "     fun: -5.37\n",
       "   maxcv: 0.0\n",
       " message: 'Optimization terminated successfully.'\n",
       "    nfev: 45\n",
       "  status: 1\n",
       " success: True\n",
       "       x: array([1.12946567, 2.32957426, 2.66792412, 0.2284215 ])"
      ]
     },
     "execution_count": 23,
     "metadata": {},
     "output_type": "execute_result"
    }
   ],
   "source": [
    "from scipy.optimize import minimize\n",
    "from qiskit import Aer\n",
    "from qiskit.algorithms.optimizers import COBYLA\n",
    "\n",
    "backend = Aer.get_backend('qasm_simulator')\n",
    "\n",
    "# Max number of optimisation iterations\n",
    "maxiter = 100\n",
    "\n",
    "p = 1\n",
    "theta0 = [1.0, 1.0,1.0,1.0]\n",
    "\n",
    "# Number of quantum measurements each time the quantum circuit is called\n",
    "shotsin = 100\n",
    "\n",
    "# We have random outcomes for the measurements.\n",
    "# So for the simulation it is good practice to seed the random number generator\n",
    "seed = 2\n",
    "\n",
    "expectation = get_expectation(G, backend, shotsin,seed)\n",
    "\n",
    "options = {'maxiter': maxiter}\n",
    "res = minimize(expectation,theta0,options=options,method='COBYLA')\n",
    "\n",
    "res"
   ]
  },
  {
   "cell_type": "code",
   "execution_count": 24,
   "metadata": {
    "colab": {
     "base_uri": "https://localhost:8080/",
     "height": 348
    },
    "id": "f9QNe99eFPJA",
    "outputId": "9889f0b3-d5ab-495a-f520-9279accd0969"
   },
   "outputs": [
    {
     "data": {
      "image/png": "[encoded data removed]",
      "text/plain": [
       "<Figure size 504x360 with 1 Axes>"
      ]
     },
     "execution_count": 24,
     "metadata": {},
     "output_type": "execute_result"
    }
   ],
   "source": [
    "from qiskit.visualization import plot_histogram\n",
    "\n",
    "backend = Aer.get_backend('aer_simulator')\n",
    "\n",
    "qc_res = create_qaoa_circ(G, res.x)\n",
    "\n",
    "counts = backend.run(qc_res, seed_simulator=seed,shots = shotsin).result().get_counts()\n",
    "\n",
    "plot_histogram(counts)"
   ]
  },
  {
   "cell_type": "code",
   "execution_count": 25,
   "metadata": {
    "colab": {
     "base_uri": "https://localhost:8080/"
    },
    "id": "SSOxcp39FQEp",
    "outputId": "c31b4d8b-3575-4a8a-e670-054adc42b60c"
   },
   "outputs": [
    {
     "name": "stdout",
     "output_type": "stream",
     "text": [
      "The estimated cost is = $5.83\n"
     ]
    }
   ],
   "source": [
    "task_price = 0.25 # price for submitting task to system (in dollars)\n",
    "\n",
    "price_per_CNOT = 0.0001 # price for a single CNOT gate (in dollars)\n",
    "price_per_Zrot = 0.00003 # price for a single Z rotation (in dollars)\n",
    "price_per_Xrot = 0.00008 # price for a single X rotation (in dollars)\n",
    "\n",
    "price_per_shot = p * (len(G.edges()) * (2* price_per_CNOT + price_per_Zrot) + len(G.nodes()) * price_per_Xrot)\n",
    "\n",
    "Optim_evals = res.nfev # Number of optimization steps i.e. the number of times the quantum hardware was called.\n",
    "Meas_shots = shotsin # Number of measurements of quantum hardware i.e. number of times the circuit was applied to the hardware.\n",
    "\n",
    "Cost = (Optim_evals * shotsin * price_per_shot) + task_price\n",
    "\n",
    "print(\"The estimated cost is = $\"+str(Cost))"
   ]
  },
  {
   "cell_type": "markdown",
   "metadata": {},
   "source": [
    "The cost of the simulation can be reduced by changing the parameters of the QAOA circuit. In this case we decided to change the ammount of shots of the circuit. This variable can be reduced depending on the ammount of qubits needed to simulate the circuit. Since here we have 4 qubits there are $2^{4}$ possible states. The number of shots has to be chossen taking into account the ammount of possible states.\n",
    "\n",
    "There is also an important thing to take into account. The formulation presented here works well for Maxcut problems such that they have positive weights in their edges. In the paper written by F. Barahona in 1998 and cited bellow, There is a Maxcut problem that can be associated to a spin glass model. However, it corresponds to a maxcut problem with negative weights. When we tried to solve that problem with a QAOA algorithm we found an answer without sense. This is because with negative weights it is important to define some constraints to the problem, which can be converted in a QUBO problem with more binary variables."
   ]
  },
  {
   "cell_type": "markdown",
   "metadata": {
    "id": "HTIVcQNBGN2Z"
   },
   "source": [
    "# References\n",
    "* F. Glover, G. Kochenberger, Y. Du (2019). \"A Tutorial on Formulating and Using QUBO Models\". arXiv preprint arXiv:1811.11538v6.\n",
    "\n",
    "* G. Kochenberger, J-K. Hao, F. Glover, M. Lewis, Z. Lu, H. Wang, Y. Wang \"The Unconstrained Binary Quadratic Programming Problem: A Survey”. Journal of Combinatorial Optimization, Vol. 28, Issue 1, pp. 58-81.\n",
    "\n",
    "* Qiskit Community (2022). \"Qiskit: An Open-source Framework for Quantum Computing\". 10.5281/zenodo.2573505.\n",
    "\n",
    "* F. Barahona, M. Grötschel, M. Jünger, G. Reinelt, (1998). \"An Application of Combinatorial Optimization to Statistical Physics and Circuit Layout Design\". Operations Research 36(3):493-513. http://dx.doi.org/10.1287/opre.36.3.493.\n"
   ]
  },
  {
   "cell_type": "code",
   "execution_count": null,
   "metadata": {},
   "outputs": [],
   "source": []
  }
 ],
 "metadata": {
  "colab": {
   "collapsed_sections": [],
   "name": "Untitled",
   "provenance": []
  },
  "kernelspec": {
   "display_name": "Python 3 (ipykernel)",
   "language": "python",
   "name": "python3"
  },
  "language_info": {
   "codemirror_mode": {
    "name": "ipython",
    "version": 3
   },
   "file_extension": ".py",
   "mimetype": "text/x-python",
   "name": "python",
   "nbconvert_exporter": "python",
   "pygments_lexer": "ipython3",
   "version": "3.9.7"
  }
 },
 "nbformat": 4,
 "nbformat_minor": 1
}
